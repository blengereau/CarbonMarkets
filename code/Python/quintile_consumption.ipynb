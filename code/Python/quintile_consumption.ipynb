{
 "cells": [
  {
   "cell_type": "markdown",
   "id": "ff59613d",
   "metadata": {},
   "source": [
    "# Analyse de la structure de la consommation par quintile de revenus et but de consommation COICOP"
   ]
  },
  {
   "cell_type": "markdown",
   "id": "5439fd52",
   "metadata": {},
   "source": [
    "Consumption per quintile : https://ec.europa.eu/eurostat/databrowser/view/hbs_str_t223__custom_16988313/default/table?lang=en \n",
    "\n",
    "\n",
    "Emissions by NACE Rev. 2 activity : https://ec.europa.eu/eurostat/databrowser/view/ENV_AC_AINAH_R2__custom_18029817/default/table"
   ]
  },
  {
   "cell_type": "code",
   "execution_count": 1,
   "id": "18cdd7f1",
   "metadata": {},
   "outputs": [],
   "source": [
    "import pandas as pd\n",
    "import matplotlib.pyplot as plt\n",
    "import seaborn as sns\n",
    "import numpy as np"
   ]
  },
  {
   "cell_type": "markdown",
   "id": "54e0f39f",
   "metadata": {},
   "source": [
    "## Import des données"
   ]
  },
  {
   "cell_type": "code",
   "execution_count": 3,
   "id": "537b1ed6",
   "metadata": {},
   "outputs": [],
   "source": [
    "data = pd.read_csv('./data/hbs_str_t223__custom_18015954_linear_2_0.csv')"
   ]
  },
  {
   "cell_type": "code",
   "execution_count": 4,
   "id": "01e47e91",
   "metadata": {},
   "outputs": [
    {
     "data": {
      "text/plain": [
       "array([1994, 1999, 2005, 2010, 2015, 2020, 1988])"
      ]
     },
     "execution_count": 4,
     "metadata": {},
     "output_type": "execute_result"
    }
   ],
   "source": [
    "data.TIME_PERIOD.unique()"
   ]
  },
  {
   "cell_type": "code",
   "execution_count": 5,
   "id": "19236937",
   "metadata": {},
   "outputs": [
    {
     "data": {
      "text/plain": [
       "array(['Food and non-alcoholic beverages',\n",
       "       'Alcoholic beverages, tobacco and narcotics',\n",
       "       'Clothing and footwear',\n",
       "       'Housing, water, electricity, gas and other fuels',\n",
       "       'Electricity, gas and other fuels', 'Electricity', 'Gas',\n",
       "       'Liquid fuels', 'Solid fuels', 'Heat energy',\n",
       "       'Furnishings, household equipment and routine household maintenance',\n",
       "       'Health', 'Transport', 'Operation of personal transport equipment',\n",
       "       'Fuels and lubricants for personal transport equipment',\n",
       "       'Transport services', 'Communications', 'Recreation and culture',\n",
       "       'Education', 'Restaurants and hotels',\n",
       "       'Miscellaneous goods and services'], dtype=object)"
      ]
     },
     "execution_count": 5,
     "metadata": {},
     "output_type": "execute_result"
    }
   ],
   "source": [
    "data['Classification of individual consumption by purpose (COICOP)'].unique()"
   ]
  },
  {
   "cell_type": "code",
   "execution_count": 6,
   "id": "13043074",
   "metadata": {},
   "outputs": [
    {
     "data": {
      "text/plain": [
       "array(['Electricity, gas and other fuels'], dtype=object)"
      ]
     },
     "execution_count": 6,
     "metadata": {},
     "output_type": "execute_result"
    }
   ],
   "source": [
    "df = data[\n",
    "    (data['TIME_PERIOD']==2020)\n",
    "    &(data['Classification of individual consumption by purpose (COICOP)'].isin(['Electricity, gas and other fuels', 'Fuels and lubricants for personal transport equipment']))\n",
    "    &(data['OBS_FLAG'].isna())\n",
    "    ]\n",
    "df['Classification of individual consumption by purpose (COICOP)'].unique()"
   ]
  },
  {
   "cell_type": "code",
   "execution_count": 7,
   "id": "ca114041",
   "metadata": {},
   "outputs": [
    {
     "data": {
      "text/plain": [
       "array(['AT', 'BE', 'BG', 'DE', 'DK', 'EE', 'EL', 'ES', 'FI', 'HR', 'HU',\n",
       "       'IE', 'LT', 'LU', 'LV', 'ME', 'NL', 'NO', 'PL', 'SI', 'SK'],\n",
       "      dtype=object)"
      ]
     },
     "execution_count": 7,
     "metadata": {},
     "output_type": "execute_result"
    }
   ],
   "source": [
    "df = df[~df['geo'].isin(['EA','EU15','EU27_2020', 'EU27_2007','EU27_2020','EU25', 'EA12', 'EA13', 'EA17', 'EA18', 'EA20', 'EEA28', 'EEA30_2007','EFTA', 'TR','RS'])]\n",
    "df = df[df['quantile'].isin(['QUINTILE1', 'QUINTILE5'])]\n",
    "country_list = df.geo.unique()\n",
    "country_list"
   ]
  },
  {
   "cell_type": "code",
   "execution_count": 8,
   "id": "b000feea",
   "metadata": {},
   "outputs": [
    {
     "data": {
      "text/plain": [
       "array(['Austria', 'Belgium', 'Bulgaria', 'Germany', 'Denmark', 'Estonia',\n",
       "       'Greece', 'Spain', 'Finland', 'Croatia', 'Hungary', 'Ireland',\n",
       "       'Lithuania', 'Luxembourg', 'Latvia', 'Montenegro', 'Netherlands',\n",
       "       'Norway', 'Poland', 'Slovenia', 'Slovakia'], dtype=object)"
      ]
     },
     "execution_count": 8,
     "metadata": {},
     "output_type": "execute_result"
    }
   ],
   "source": [
    "df['Geopolitical entity (reporting)'].unique()"
   ]
  },
  {
   "cell_type": "markdown",
   "id": "fd8e340b",
   "metadata": {},
   "source": [
    "Différencier par niveau de pollution par Household"
   ]
  },
  {
   "cell_type": "code",
   "execution_count": 9,
   "id": "cccbcf37",
   "metadata": {},
   "outputs": [
    {
     "data": {
      "text/plain": [
       "quantile   Classification of individual consumption by purpose (COICOP)\n",
       "QUINTILE1  Electricity, gas and other fuels                                88.380952\n",
       "QUINTILE5  Electricity, gas and other fuels                                50.000000\n",
       "Name: OBS_VALUE, dtype: float64"
      ]
     },
     "execution_count": 9,
     "metadata": {},
     "output_type": "execute_result"
    }
   ],
   "source": [
    "df.groupby(['quantile','Classification of individual consumption by purpose (COICOP)'])['OBS_VALUE'].mean()"
   ]
  },
  {
   "cell_type": "code",
   "execution_count": 10,
   "id": "92185593",
   "metadata": {},
   "outputs": [],
   "source": [
    "emissions = pd.read_csv('./data/env_ac_ainah_r2__custom_18029817_linear_2_0.csv')"
   ]
  },
  {
   "cell_type": "code",
   "execution_count": 11,
   "id": "1f7a2288",
   "metadata": {},
   "outputs": [
    {
     "data": {
      "text/plain": [
       "array(['Austria', 'Belgium', 'Bulgaria', 'Cyprus', 'Czechia', 'Germany',\n",
       "       'Denmark', 'Estonia', 'Greece', 'Spain', 'Finland', 'France',\n",
       "       'Croatia', 'Hungary', 'Ireland', 'Italy', 'Lithuania', 'Latvia',\n",
       "       'Malta', 'Norway', 'Poland', 'Portugal', 'Romania', 'Sweden',\n",
       "       'Slovenia', 'Slovakia'], dtype=object)"
      ]
     },
     "execution_count": 11,
     "metadata": {},
     "output_type": "execute_result"
    }
   ],
   "source": [
    "df_emissions = emissions[\n",
    "    (emissions.TIME_PERIOD==2020)\n",
    "    &(emissions['nace_r2']=='HH_HEAT')\n",
    "    &(emissions['unit']=='KG_HAB')\n",
    "    &(~emissions['geo'].isin(['CH', 'EU27_2020','IS','LU']))\n",
    "    &(emissions['OBS_FLAG'].isna())\n",
    "    ]\n",
    "\n",
    "df_emissions['Geopolitical entity (reporting)'].unique()"
   ]
  },
  {
   "cell_type": "code",
   "execution_count": 12,
   "id": "2dff5c93",
   "metadata": {},
   "outputs": [],
   "source": [
    "q1_emissions = df_emissions['OBS_VALUE'].quantile(0.25)\n",
    "q3_emissions = df_emissions['OBS_VALUE'].quantile(0.75)\n",
    "mean_emissions = df_emissions['OBS_VALUE'].quantile(0.5)\n",
    "\n",
    "countries_q4 = df_emissions[df_emissions['OBS_VALUE']>=q3_emissions]['Geopolitical entity (reporting)']\n",
    "countries_q3 = df_emissions[\n",
    "    (df_emissions['OBS_VALUE']<=q3_emissions)\n",
    "    &\n",
    "    (df_emissions['OBS_VALUE']>=mean_emissions)\n",
    "    ]['Geopolitical entity (reporting)']\n",
    "countries_q2 = df_emissions[\n",
    "    (df_emissions['OBS_VALUE']<=mean_emissions)\n",
    "    &(df_emissions['OBS_VALUE']>=q1_emissions)\n",
    "    ]['Geopolitical entity (reporting)']\n",
    "countries_q1 = df_emissions[df_emissions['OBS_VALUE']<=q1_emissions]['Geopolitical entity (reporting)']\n",
    "\n",
    "countries_mid = df_emissions[(df_emissions['OBS_VALUE']<mean_emissions)&((df_emissions['OBS_VALUE']>q1_emissions))]['Geopolitical entity (reporting)']"
   ]
  },
  {
   "cell_type": "code",
   "execution_count": 13,
   "id": "0136d93a",
   "metadata": {},
   "outputs": [
    {
     "data": {
      "text/plain": [
       "36410    Bulgaria\n",
       "36493     Estonia\n",
       "36549     Finland\n",
       "36689       Malta\n",
       "36717      Norway\n",
       "36745    Portugal\n",
       "36773      Sweden\n",
       "Name: Geopolitical entity (reporting), dtype: object"
      ]
     },
     "execution_count": 13,
     "metadata": {},
     "output_type": "execute_result"
    }
   ],
   "source": [
    "countries_q1"
   ]
  },
  {
   "cell_type": "code",
   "execution_count": 14,
   "id": "abe221ae",
   "metadata": {},
   "outputs": [
    {
     "data": {
      "image/png": "[encoded data removed]",
      "text/plain": [
       "<Figure size 750x400 with 1 Axes>"
      ]
     },
     "metadata": {},
     "output_type": "display_data"
    }
   ],
   "source": [
    "sns.set_theme(style=\"ticks\")\n",
    "\n",
    "def compute_group_means(group_countries):\n",
    "    return df[df['Geopolitical entity (reporting)'].isin(group_countries)].groupby('quantile')['OBS_VALUE'].mean()/10\n",
    "\n",
    "mean_all = df.groupby('quantile')['OBS_VALUE'].mean()/10\n",
    "mean_q1 = compute_group_means(countries_q1)\n",
    "mean_q2 = compute_group_means(countries_q2)\n",
    "mean_q3 = compute_group_means(countries_q3)\n",
    "mean_q4 = compute_group_means(countries_q4)\n",
    "mean_mid = compute_group_means(countries_mid)\n",
    "\n",
    "quintiles = ['QUINTILE1', 'QUINTILE5']\n",
    "x = np.arange(len(quintiles))\n",
    "bar_width = 0.15\n",
    "\n",
    "palette = sns.color_palette(\"Set2\", 12)\n",
    "\n",
    "plt.figure(figsize=(7.5, 4))\n",
    "plt.bar(x - 1.5*bar_width, mean_q1[quintiles], width=bar_width, label='Low Emission Countries (Q1)', color=palette[0])\n",
    "plt.bar(x - 0.5*bar_width, mean_q2[quintiles], width=bar_width, label='Lower-Mid Emission Countries (Q2)', color=palette[2])\n",
    "plt.bar(x + 0.5*bar_width, mean_q3[quintiles], width=bar_width, label='Upper-Mid Emission Countries (Q3)', color=palette[6])\n",
    "plt.bar(x + 1.5*bar_width, mean_q4[quintiles], width=bar_width, label='High Emission Countries (Q4)', color=palette[1])\n",
    "\n",
    "plt.xticks(x, ['Income quintile 1', 'Income quintile 5'])\n",
    "plt.ylabel('Share of total expenditure (%)')\n",
    "\n",
    "plt.grid(axis='y', linestyle='-', color='black', alpha=0.6)\n",
    "\n",
    "ax = plt.gca()\n",
    "for spine in ax.spines.values():\n",
    "    spine.set_alpha(0.6)\n",
    "\n",
    "plt.legend()\n",
    "plt.tight_layout()\n",
    "plt.show()"
   ]
  },
  {
   "cell_type": "code",
   "execution_count": 15,
   "id": "9534004b",
   "metadata": {},
   "outputs": [
    {
     "data": {
      "text/plain": [
       "36382     Austria\n",
       "36437      Cyprus\n",
       "36507      Greece\n",
       "36563      France\n",
       "36577     Croatia\n",
       "36801    Slovakia\n",
       "Name: Geopolitical entity (reporting), dtype: object"
      ]
     },
     "execution_count": 15,
     "metadata": {},
     "output_type": "execute_result"
    }
   ],
   "source": [
    "countries_q3"
   ]
  },
  {
   "cell_type": "markdown",
   "id": "c6b87c8a",
   "metadata": {},
   "source": [
    "# Transport fuel"
   ]
  },
  {
   "cell_type": "code",
   "execution_count": 16,
   "id": "e14861a6",
   "metadata": {},
   "outputs": [
    {
     "name": "stdout",
     "output_type": "stream",
     "text": [
      "['Norway']\n"
     ]
    },
    {
     "name": "stderr",
     "output_type": "stream",
     "text": [
      "/tmp/ipykernel_5750/3881664719.py:8: SettingWithCopyWarning: \n",
      "A value is trying to be set on a copy of a slice from a DataFrame.\n",
      "Try using .loc[row_indexer,col_indexer] = value instead\n",
      "\n",
      "See the caveats in the documentation: https://pandas.pydata.org/pandas-docs/stable/user_guide/indexing.html#returning-a-view-versus-a-copy\n",
      "  df_transport['OBS_VALUE'] = df_transport['OBS_VALUE']/10\n"
     ]
    }
   ],
   "source": [
    "df_transport = data[\n",
    "    (data['TIME_PERIOD']==2010)\n",
    "    &(data['Classification of individual consumption by purpose (COICOP)'].isin([\n",
    "        'Fuels and lubricants for personal transport equipment']))\n",
    "    &(data['OBS_FLAG'].isna())\n",
    "    ]\n",
    "df_transport['Classification of individual consumption by purpose (COICOP)'].unique()\n",
    "df_transport['OBS_VALUE'] = df_transport['OBS_VALUE']/10\n",
    "print(df_transport['Geopolitical entity (reporting)'].unique())\n",
    "df_transport = df_transport.groupby(['quantile','Classification of individual consumption by purpose (COICOP)'])['OBS_VALUE'].mean().reset_index()\n",
    "df_transport['quantile_num'] = (\n",
    "    df_transport['quantile']\n",
    "    .str.extract(r'(\\d+)')\n",
    "    .astype(int)\n",
    ")"
   ]
  },
  {
   "cell_type": "code",
   "execution_count": 17,
   "id": "fd4a74fb",
   "metadata": {},
   "outputs": [
    {
     "data": {
      "image/png": "[encoded data removed]",
      "text/plain": [
       "<Figure size 700x400 with 1 Axes>"
      ]
     },
     "metadata": {},
     "output_type": "display_data"
    }
   ],
   "source": [
    "sns.set_theme(style=\"ticks\")\n",
    "fig, ax = plt.subplots(figsize=(7, 4))\n",
    "palette = sns.color_palette(\"Set2\", 12)\n",
    "ax.bar(df_transport['quantile_num'], df_transport['OBS_VALUE'], color=palette[2])\n",
    "\n",
    "# ax.set_title(\"Transport Fuel\")\n",
    "ax.set_ylabel(\"Share of total expenditure (%)\")\n",
    "ax.set_xlabel(\"Income Quintile\")\n",
    "ax.set_ylim(0, df_transport['OBS_VALUE'].max() * 1.2)\n",
    "\n",
    "ymax = ax.get_ylim()[1]\n",
    "ax.set_yticks(np.arange(0, np.ceil(ymax), 1))\n",
    "plt.grid(axis='y', linestyle='-', color='black', alpha=0.6)\n",
    "ax = plt.gca()\n",
    "for spine in ax.spines.values():\n",
    "    spine.set_alpha(0.6)\n",
    "plt.tight_layout()\n",
    "plt.show()"
   ]
  },
  {
   "cell_type": "markdown",
   "id": "b549ee51",
   "metadata": {},
   "source": [
    "# Energy mix"
   ]
  },
  {
   "cell_type": "code",
   "execution_count": 18,
   "id": "005c65fc",
   "metadata": {},
   "outputs": [],
   "source": [
    "energy_mix = pd.read_csv('./data/nrg_bal_peh__custom_18036327_linear_2_0.csv')\n",
    "energy_mix = energy_mix[energy_mix['TIME_PERIOD']==2020]\n",
    "energy_mix = energy_mix[energy_mix['geo'].isin(country_list)]"
   ]
  },
  {
   "cell_type": "code",
   "execution_count": 19,
   "id": "c39db5b9",
   "metadata": {},
   "outputs": [
    {
     "data": {
      "text/plain": [
       "array(['Austria', 'Belgium', 'Bulgaria', 'Germany', 'Denmark', 'Estonia',\n",
       "       'Greece', 'Spain', 'Finland', 'Croatia', 'Hungary', 'Ireland',\n",
       "       'Lithuania', 'Luxembourg', 'Latvia', 'Montenegro', 'Netherlands',\n",
       "       'Norway', 'Poland', 'Slovenia', 'Slovakia'], dtype=object)"
      ]
     },
     "execution_count": 19,
     "metadata": {},
     "output_type": "execute_result"
    }
   ],
   "source": [
    "energy_mix['Geopolitical entity (reporting)'].unique()"
   ]
  },
  {
   "cell_type": "code",
   "execution_count": 20,
   "id": "0314e519",
   "metadata": {},
   "outputs": [],
   "source": [
    "fossil = energy_mix[energy_mix['Standard international energy product classification (SIEC)'] == 'Fossil energy']\n",
    "total = energy_mix[energy_mix['Standard international energy product classification (SIEC)'] == 'Total']\n",
    "merged = fossil.merge(total, on=['Geopolitical entity (reporting)', 'TIME_PERIOD'], suffixes=('_fossil', '_total'))\n",
    "merged['fossil_share'] = merged['OBS_VALUE_fossil'] / merged['OBS_VALUE_total']\n",
    "merged['fossil_share_percent'] = merged['fossil_share'] * 100"
   ]
  },
  {
   "cell_type": "code",
   "execution_count": 21,
   "id": "9850c140",
   "metadata": {},
   "outputs": [],
   "source": [
    "q1_share = merged['fossil_share'].quantile(0.33)\n",
    "q3_share = merged['fossil_share'].quantile(0.66)\n",
    "mean_share = merged['fossil_share'].quantile(0.5)\n",
    "\n",
    "countries_high_share = merged[merged['fossil_share']>q3_share]['Geopolitical entity (reporting)']\n",
    "countries_low_share = merged[merged['fossil_share']<q1_share]['Geopolitical entity (reporting)']\n",
    "countries_mid_share = merged[(merged['fossil_share']<q3_emissions)&((merged['fossil_share']>q1_share))]['Geopolitical entity (reporting)']"
   ]
  },
  {
   "cell_type": "code",
   "execution_count": 22,
   "id": "f6d59ffb",
   "metadata": {},
   "outputs": [
    {
     "data": {
      "image/png": "[encoded data removed]",
      "text/plain": [
       "<Figure size 700x500 with 1 Axes>"
      ]
     },
     "metadata": {},
     "output_type": "display_data"
    }
   ],
   "source": [
    "# Compute mean energy share by quintile and country group\n",
    "def compute_group_means(group_countries):\n",
    "    return df[df['Geopolitical entity (reporting)'].isin(group_countries)].groupby('quantile')['OBS_VALUE'].mean()/10\n",
    "\n",
    "mean_all = df.groupby('quantile')['OBS_VALUE'].mean()/10\n",
    "mean_low = compute_group_means(countries_low_share)\n",
    "mean_high = compute_group_means(countries_high_share)\n",
    "mean_mid = compute_group_means(countries_mid)\n",
    "\n",
    "plt.figure(figsize=(7, 5))\n",
    "plt.bar(x - bar_width, mean_high[quintiles], width=bar_width, label='High fossil fuel in heating', color=palette[1])\n",
    "# plt.bar(x, mean_mid[quintiles], width=bar_width, label='Mid emissions per households', color=palette[2])\n",
    "plt.bar(x, mean_all[quintiles], width=bar_width, label='All countries', color=palette[2])\n",
    "plt.bar(x + bar_width, mean_low[quintiles], width=bar_width, label='Low emissions per HH countries', color=palette[0])\n",
    "\n",
    "plt.xticks(x, ['Income quintile 1', 'Income quintile 5'])\n",
    "plt.ylabel('Percentage of total household expenditure')\n",
    "# plt.ylim(0, max(mean_all.max(), mean_low.max(), mean_high.max()) * 1.2)\n",
    "\n",
    "plt.grid(axis='y', linestyle='-', color='black', alpha=0.6)\n",
    "\n",
    "ax = plt.gca()\n",
    "for spine in ax.spines.values():\n",
    "    spine.set_alpha(0.6)  # lower alpha -> lighter frame\n",
    "\n",
    "plt.legend()\n",
    "plt.tight_layout()\n",
    "plt.show()"
   ]
  }
 ],
 "metadata": {
  "kernelspec": {
   "display_name": "CodeEcon",
   "language": "python",
   "name": "python3"
  },
  "language_info": {
   "codemirror_mode": {
    "name": "ipython",
    "version": 3
   },
   "file_extension": ".py",
   "mimetype": "text/x-python",
   "name": "python",
   "nbconvert_exporter": "python",
   "pygments_lexer": "ipython3",
   "version": "3.10.6"
  }
 },
 "nbformat": 4,
 "nbformat_minor": 5
}
